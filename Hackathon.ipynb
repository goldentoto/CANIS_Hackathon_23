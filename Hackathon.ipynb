{
 "cells": [
  {
   "cell_type": "code",
   "execution_count": 63,
   "id": "bad303c5-ed99-45f6-a895-cac8ff6dfb0f",
   "metadata": {
    "tags": []
   },
   "outputs": [
    {
     "data": {
      "text/html": [
       "<div>\n",
       "<style scoped>\n",
       "    .dataframe tbody tr th:only-of-type {\n",
       "        vertical-align: middle;\n",
       "    }\n",
       "\n",
       "    .dataframe tbody tr th {\n",
       "        vertical-align: top;\n",
       "    }\n",
       "\n",
       "    .dataframe thead th {\n",
       "        text-align: right;\n",
       "    }\n",
       "</style>\n",
       "<table border=\"1\" class=\"dataframe\">\n",
       "  <thead>\n",
       "    <tr style=\"text-align: right;\">\n",
       "      <th></th>\n",
       "      <th>Unnamed: 0</th>\n",
       "      <th>text</th>\n",
       "    </tr>\n",
       "  </thead>\n",
       "  <tbody>\n",
       "    <tr>\n",
       "      <th>0</th>\n",
       "      <td>0</td>\n",
       "      <td>Donald Trump just couldn t wish all Americans ...</td>\n",
       "    </tr>\n",
       "    <tr>\n",
       "      <th>1</th>\n",
       "      <td>1</td>\n",
       "      <td>House Intelligence Committee Chairman Devin Nu...</td>\n",
       "    </tr>\n",
       "    <tr>\n",
       "      <th>2</th>\n",
       "      <td>2</td>\n",
       "      <td>On Friday, it was revealed that former Milwauk...</td>\n",
       "    </tr>\n",
       "    <tr>\n",
       "      <th>3</th>\n",
       "      <td>3</td>\n",
       "      <td>On Christmas day, Donald Trump announced that ...</td>\n",
       "    </tr>\n",
       "    <tr>\n",
       "      <th>4</th>\n",
       "      <td>4</td>\n",
       "      <td>Pope Francis used his annual Christmas Day mes...</td>\n",
       "    </tr>\n",
       "  </tbody>\n",
       "</table>\n",
       "</div>"
      ],
      "text/plain": [
       "   Unnamed: 0                                               text\n",
       "0           0  Donald Trump just couldn t wish all Americans ...\n",
       "1           1  House Intelligence Committee Chairman Devin Nu...\n",
       "2           2  On Friday, it was revealed that former Milwauk...\n",
       "3           3  On Christmas day, Donald Trump announced that ...\n",
       "4           4  Pope Francis used his annual Christmas Day mes..."
      ]
     },
     "execution_count": 63,
     "metadata": {},
     "output_type": "execute_result"
    }
   ],
   "source": [
    "import pandas as pd \n",
    "import numpy as np \n",
    "import neattext as nt\n",
    "import neattext.functions as nfx\n",
    "df = pd.read_csv(\"C:/Users/Angie/PycharmProjects/DataSet_Misinfo_Fake.csv\")\n",
    "df.head()"
   ]
  },
  {
   "cell_type": "code",
   "execution_count": 64,
   "id": "45da009f-1db4-4ed3-8ca6-6f303c7c88ec",
   "metadata": {
    "tags": []
   },
   "outputs": [
    {
     "data": {
      "text/plain": [
       "0        {'text_noise': 11.717939854821983, 'text_lengt...\n",
       "1        {'text_noise': 9.272918861959958, 'text_length...\n",
       "2        {'text_noise': 10.897970530998053, 'text_lengt...\n",
       "3        {'text_noise': 11.679884643114635, 'text_lengt...\n",
       "4        {'text_noise': 11.466325660699061, 'text_lengt...\n",
       "                               ...                        \n",
       "43637    {'text_noise': 12.655086848635236, 'text_lengt...\n",
       "43638    {'text_noise': 9.545454545454547, 'text_length...\n",
       "43639    {'text_noise': 9.080325960419092, 'text_length...\n",
       "43640    {'text_noise': 9.080325960419092, 'text_length...\n",
       "43641    {'text_noise': 9.939759036144578, 'text_length...\n",
       "Name: text, Length: 43642, dtype: object"
      ]
     },
     "execution_count": 64,
     "metadata": {},
     "output_type": "execute_result"
    }
   ],
   "source": [
    "df['text'].apply(lambda x: nt.TextFrame(x).noise_scan())"
   ]
  },
  {
   "cell_type": "code",
   "execution_count": 65,
   "id": "94c31fa8-2851-4141-a8a4-e6fcaf6908a7",
   "metadata": {
    "tags": []
   },
   "outputs": [
    {
     "data": {
      "text/html": [
       "<div>\n",
       "<style scoped>\n",
       "    .dataframe tbody tr th:only-of-type {\n",
       "        vertical-align: middle;\n",
       "    }\n",
       "\n",
       "    .dataframe tbody tr th {\n",
       "        vertical-align: top;\n",
       "    }\n",
       "\n",
       "    .dataframe thead th {\n",
       "        text-align: right;\n",
       "    }\n",
       "</style>\n",
       "<table border=\"1\" class=\"dataframe\">\n",
       "  <thead>\n",
       "    <tr style=\"text-align: right;\">\n",
       "      <th></th>\n",
       "      <th>Unnamed: 0</th>\n",
       "      <th>text</th>\n",
       "      <th>urls</th>\n",
       "      <th>userhandles</th>\n",
       "      <th>emails</th>\n",
       "      <th>stopwords</th>\n",
       "      <th>currency symbols</th>\n",
       "    </tr>\n",
       "  </thead>\n",
       "  <tbody>\n",
       "    <tr>\n",
       "      <th>0</th>\n",
       "      <td>0</td>\n",
       "      <td>Donald Trump just couldn t wish all Americans ...</td>\n",
       "      <td>[]</td>\n",
       "      <td>[@realDonaldTrump), @TalbertSwan), @calvinstow...</td>\n",
       "      <td>[]</td>\n",
       "      <td>[just, couldn, t, all, a, and, it, at, he, had...</td>\n",
       "      <td>[]</td>\n",
       "    </tr>\n",
       "    <tr>\n",
       "      <th>1</th>\n",
       "      <td>1</td>\n",
       "      <td>House Intelligence Committee Chairman Devin Nu...</td>\n",
       "      <td>[]</td>\n",
       "      <td>[]</td>\n",
       "      <td>[]</td>\n",
       "      <td>[is, to, have, a, s, been, under, the, of, tha...</td>\n",
       "      <td>[]</td>\n",
       "    </tr>\n",
       "    <tr>\n",
       "      <th>2</th>\n",
       "      <td>2</td>\n",
       "      <td>On Friday, it was revealed that former Milwauk...</td>\n",
       "      <td>[https://t.co/zcbyc4Wp5b]</td>\n",
       "      <td>[@SheriffClarke), @SheriffClarke), @KeithLeBla...</td>\n",
       "      <td>[]</td>\n",
       "      <td>[it, was, that, who, was, being, for, in, s, h...</td>\n",
       "      <td>[]</td>\n",
       "    </tr>\n",
       "    <tr>\n",
       "      <th>3</th>\n",
       "      <td>3</td>\n",
       "      <td>On Christmas day, Donald Trump announced that ...</td>\n",
       "      <td>[https://t.co/Fg7VacxRtJ, https://t.co/zrWpyMX...</td>\n",
       "      <td>[@pbump), @_cingraham), @_cingraham), @_cingra...</td>\n",
       "      <td>[]</td>\n",
       "      <td>[that, he, be, to, the, but, he, is, for, the,...</td>\n",
       "      <td>[]</td>\n",
       "    </tr>\n",
       "    <tr>\n",
       "      <th>4</th>\n",
       "      <td>4</td>\n",
       "      <td>Pope Francis used his annual Christmas Day mes...</td>\n",
       "      <td>[]</td>\n",
       "      <td>[]</td>\n",
       "      <td>[]</td>\n",
       "      <td>[his, to, his, his, just, after, of, the, s, t...</td>\n",
       "      <td>[]</td>\n",
       "    </tr>\n",
       "  </tbody>\n",
       "</table>\n",
       "</div>"
      ],
      "text/plain": [
       "   Unnamed: 0                                               text  \\\n",
       "0           0  Donald Trump just couldn t wish all Americans ...   \n",
       "1           1  House Intelligence Committee Chairman Devin Nu...   \n",
       "2           2  On Friday, it was revealed that former Milwauk...   \n",
       "3           3  On Christmas day, Donald Trump announced that ...   \n",
       "4           4  Pope Francis used his annual Christmas Day mes...   \n",
       "\n",
       "                                                urls  \\\n",
       "0                                                 []   \n",
       "1                                                 []   \n",
       "2                          [https://t.co/zcbyc4Wp5b]   \n",
       "3  [https://t.co/Fg7VacxRtJ, https://t.co/zrWpyMX...   \n",
       "4                                                 []   \n",
       "\n",
       "                                         userhandles emails  \\\n",
       "0  [@realDonaldTrump), @TalbertSwan), @calvinstow...     []   \n",
       "1                                                 []     []   \n",
       "2  [@SheriffClarke), @SheriffClarke), @KeithLeBla...     []   \n",
       "3  [@pbump), @_cingraham), @_cingraham), @_cingra...     []   \n",
       "4                                                 []     []   \n",
       "\n",
       "                                           stopwords currency symbols  \n",
       "0  [just, couldn, t, all, a, and, it, at, he, had...               []  \n",
       "1  [is, to, have, a, s, been, under, the, of, tha...               []  \n",
       "2  [it, was, that, who, was, being, for, in, s, h...               []  \n",
       "3  [that, he, be, to, the, but, he, is, for, the,...               []  \n",
       "4  [his, to, his, his, just, after, of, the, s, t...               []  "
      ]
     },
     "execution_count": 65,
     "metadata": {},
     "output_type": "execute_result"
    }
   ],
   "source": [
    "df['urls'] = df['text'].apply(nfx.extract_urls)\n",
    "df['userhandles'] = df['text'].apply(nfx.extract_userhandles)\n",
    "df['emails'] = df['text'].apply(nfx.extract_emails)\n",
    "df['stopwords'] = df['text'].apply(nfx.extract_stopwords)\n",
    "df['currency symbols'] = df['text'].apply(nfx.extract_currency_symbols)\n",
    "df.head()"
   ]
  },
  {
   "cell_type": "code",
   "execution_count": 67,
   "id": "b05cdf12-aca9-43a5-ace2-f67c7a3f335a",
   "metadata": {
    "tags": []
   },
   "outputs": [
    {
     "data": {
      "text/html": [
       "<div>\n",
       "<style scoped>\n",
       "    .dataframe tbody tr th:only-of-type {\n",
       "        vertical-align: middle;\n",
       "    }\n",
       "\n",
       "    .dataframe tbody tr th {\n",
       "        vertical-align: top;\n",
       "    }\n",
       "\n",
       "    .dataframe thead th {\n",
       "        text-align: right;\n",
       "    }\n",
       "</style>\n",
       "<table border=\"1\" class=\"dataframe\">\n",
       "  <thead>\n",
       "    <tr style=\"text-align: right;\">\n",
       "      <th></th>\n",
       "      <th>Unnamed: 0</th>\n",
       "      <th>text</th>\n",
       "      <th>urls</th>\n",
       "      <th>userhandles</th>\n",
       "      <th>emails</th>\n",
       "      <th>stopwords</th>\n",
       "      <th>currency symbols</th>\n",
       "      <th>clean text</th>\n",
       "    </tr>\n",
       "  </thead>\n",
       "  <tbody>\n",
       "    <tr>\n",
       "      <th>0</th>\n",
       "      <td>0</td>\n",
       "      <td>Donald Trump just couldn t wish all Americans ...</td>\n",
       "      <td>[]</td>\n",
       "      <td>[@realDonaldTrump), @TalbertSwan), @calvinstow...</td>\n",
       "      <td>[]</td>\n",
       "      <td>[just, couldn, t, all, a, and, it, at, he, had...</td>\n",
       "      <td>[]</td>\n",
       "      <td>Donald Trump wish Americans Happy New Year lea...</td>\n",
       "    </tr>\n",
       "    <tr>\n",
       "      <th>1</th>\n",
       "      <td>1</td>\n",
       "      <td>House Intelligence Committee Chairman Devin Nu...</td>\n",
       "      <td>[]</td>\n",
       "      <td>[]</td>\n",
       "      <td>[]</td>\n",
       "      <td>[is, to, have, a, s, been, under, the, of, tha...</td>\n",
       "      <td>[]</td>\n",
       "      <td>House Intelligence Committee Chairman Devin Nu...</td>\n",
       "    </tr>\n",
       "    <tr>\n",
       "      <th>2</th>\n",
       "      <td>2</td>\n",
       "      <td>On Friday, it was revealed that former Milwauk...</td>\n",
       "      <td>[https://t.co/zcbyc4Wp5b]</td>\n",
       "      <td>[@SheriffClarke), @SheriffClarke), @KeithLeBla...</td>\n",
       "      <td>[]</td>\n",
       "      <td>[it, was, that, who, was, being, for, in, s, h...</td>\n",
       "      <td>[]</td>\n",
       "      <td>Friday, revealed Milwaukee Sheriff David Clark...</td>\n",
       "    </tr>\n",
       "    <tr>\n",
       "      <th>3</th>\n",
       "      <td>3</td>\n",
       "      <td>On Christmas day, Donald Trump announced that ...</td>\n",
       "      <td>[https://t.co/Fg7VacxRtJ, https://t.co/zrWpyMX...</td>\n",
       "      <td>[@pbump), @_cingraham), @_cingraham), @_cingra...</td>\n",
       "      <td>[]</td>\n",
       "      <td>[that, he, be, to, the, but, he, is, for, the,...</td>\n",
       "      <td>[]</td>\n",
       "      <td>Christmas day, Donald Trump announced work fol...</td>\n",
       "    </tr>\n",
       "    <tr>\n",
       "      <th>4</th>\n",
       "      <td>4</td>\n",
       "      <td>Pope Francis used his annual Christmas Day mes...</td>\n",
       "      <td>[]</td>\n",
       "      <td>[]</td>\n",
       "      <td>[]</td>\n",
       "      <td>[his, to, his, his, just, after, of, the, s, t...</td>\n",
       "      <td>[]</td>\n",
       "      <td>Pope Francis annual Christmas Day message rebu...</td>\n",
       "    </tr>\n",
       "  </tbody>\n",
       "</table>\n",
       "</div>"
      ],
      "text/plain": [
       "   Unnamed: 0                                               text  \\\n",
       "0           0  Donald Trump just couldn t wish all Americans ...   \n",
       "1           1  House Intelligence Committee Chairman Devin Nu...   \n",
       "2           2  On Friday, it was revealed that former Milwauk...   \n",
       "3           3  On Christmas day, Donald Trump announced that ...   \n",
       "4           4  Pope Francis used his annual Christmas Day mes...   \n",
       "\n",
       "                                                urls  \\\n",
       "0                                                 []   \n",
       "1                                                 []   \n",
       "2                          [https://t.co/zcbyc4Wp5b]   \n",
       "3  [https://t.co/Fg7VacxRtJ, https://t.co/zrWpyMX...   \n",
       "4                                                 []   \n",
       "\n",
       "                                         userhandles emails  \\\n",
       "0  [@realDonaldTrump), @TalbertSwan), @calvinstow...     []   \n",
       "1                                                 []     []   \n",
       "2  [@SheriffClarke), @SheriffClarke), @KeithLeBla...     []   \n",
       "3  [@pbump), @_cingraham), @_cingraham), @_cingra...     []   \n",
       "4                                                 []     []   \n",
       "\n",
       "                                           stopwords currency symbols  \\\n",
       "0  [just, couldn, t, all, a, and, it, at, he, had...               []   \n",
       "1  [is, to, have, a, s, been, under, the, of, tha...               []   \n",
       "2  [it, was, that, who, was, being, for, in, s, h...               []   \n",
       "3  [that, he, be, to, the, but, he, is, for, the,...               []   \n",
       "4  [his, to, his, his, just, after, of, the, s, t...               []   \n",
       "\n",
       "                                          clean text  \n",
       "0  Donald Trump wish Americans Happy New Year lea...  \n",
       "1  House Intelligence Committee Chairman Devin Nu...  \n",
       "2  Friday, revealed Milwaukee Sheriff David Clark...  \n",
       "3  Christmas day, Donald Trump announced work fol...  \n",
       "4  Pope Francis annual Christmas Day message rebu...  "
      ]
     },
     "execution_count": 67,
     "metadata": {},
     "output_type": "execute_result"
    }
   ],
   "source": [
    "df['clean text'] = df['text'].apply(nfx.remove_urls)\n",
    "df['clean text'] = df['clean text'].apply(nfx.remove_userhandles)\n",
    "df['clean text'] = df['clean text'].apply(nfx.remove_emails)\n",
    "df['clean text'] = df['clean text'].apply(nfx.remove_stopwords)\n",
    "df['clean text'] = df['clean text'].apply(nfx.remove_currency_symbols)\n",
    "df.head()"
   ]
  },
  {
   "cell_type": "code",
   "execution_count": 68,
   "id": "0e31efb7-84bc-4b72-bfdb-a5bdcdd63985",
   "metadata": {
    "tags": []
   },
   "outputs": [
    {
     "data": {
      "text/plain": [
       "[]                                                                                                                                                                                                                                                                                                                                                                                                                                                                                                                                                                                                                                                                                                                                                                                                                                                                                                                                                                                                                                                                                                                                                                                                                                                                                                                                                                                                                                                                                                                                                                                                                                                                                                                                                                                                                                                                                                                                                                                                                                                                                                                                                                                                                                                                                                                                                                                                                                                                                                                                                                                                                                                                                                                                                                                                                                                                                                                    39138\n",
       "[http://link-address.com]                                                                                                                                                                                                                                                                                                                                                                                                                                                                                                                                                                                                                                                                                                                                                                                                                                                                                                                                                                                                                                                                                                                                                                                                                                                                                                                                                                                                                                                                                                                                                                                                                                                                                                                                                                                                                                                                                                                                                                                                                                                                                                                                                                                                                                                                                                                                                                                                                                                                                                                                                                                                                                                                                                                                                                                                                                                                                                57\n",
       "[www.galacticconnection.com]                                                                                                                                                                                                                                                                                                                                                                                                                                                                                                                                                                                                                                                                                                                                                                                                                                                                                                                                                                                                                                                                                                                                                                                                                                                                                                                                                                                                                                                                                                                                                                                                                                                                                                                                                                                                                                                                                                                                                                                                                                                                                                                                                                                                                                                                                                                                                                                                                                                                                                                                                                                                                                                                                                                                                                                                                                                                                             36\n",
       "[www.TheDailySheeple.com, www.TheDailySheeple.com]                                                                                                                                                                                                                                                                                                                                                                                                                                                                                                                                                                                                                                                                                                                                                                                                                                                                                                                                                                                                                                                                                                                                                                                                                                                                                                                                                                                                                                                                                                                                                                                                                                                                                                                                                                                                                                                                                                                                                                                                                                                                                                                                                                                                                                                                                                                                                                                                                                                                                                                                                                                                                                                                                                                                                                                                                                                                       26\n",
       "[http://www.infowars.com/wp-content/uploads/2015/10/brainforce-25-200-e1476824046577.jpg, http://www.infowarsstore.com/health-and-wellness/infowars-life/brain-force.html?ims=tzrwu&utm_campaign=Infowars+Placement&utm_source=Infowars.com&utm_medium=Widget&utm_content=Brain+Force, http://www.infowarsstore.com/health-and-wellness/infowars-life/brain-force.html?ims=tzrwu&utm_campaign=Infowars+Placement&utm_source=Infowars.com&utm_medium=Widget&utm_content=Brain+Force, http://www.infowars.com/wp-content/uploads/2015/10/brainforce-25-200-e1476824046577.jpg, http://www.infowarsstore.com/health-and-wellness/infowars-life/brain-force.html?ims=tzrwu&utm_campaign=Infowars+Placement&utm_source=Infowars.com&utm_medium=Widget&utm_content=Brain+Force, http://www.infowarsstore.com/health-and-wellness/infowars-life/brain-force.html?ims=tzrwu&utm_campaign=Infowars+Placement&utm_source=Infowars.com&utm_medium=Widget&utm_content=Brain+Force, http://www.infowars.com/wp-content/uploads/2015/10/brainforce-25-200-e1476824046577.jpg, http://www.infowarsstore.com/health-and-wellness/infowars-life/brain-force.html?ims=tzrwu&utm_campaign=Infowars+Placement&utm_source=Infowars.com&utm_medium=Widget&utm_content=Brain+Force, http://www.infowarsstore.com/health-and-wellness/infowars-life/brain-force.html?ims=tzrwu&utm_campaign=Infowars+Placement&utm_source=Infowars.com&utm_medium=Widget&utm_content=Brain+Force, http://www.infowars.com/wp-content/uploads/2015/10/brainforce-25-200-e1476824046577.jpg, http://www.infowarsstore.com/health-and-wellness/infowars-life/brain-force.html?ims=tzrwu&utm_campaign=Infowars+Placement&utm_source=Infowars.com&utm_medium=Widget&utm_content=Brain+Force, http://www.infowarsstore.com/health-and-wellness/infowars-life/brain-force.html?ims=tzrwu&utm_campaign=Infowars+Placement&utm_source=Infowars.com&utm_medium=Widget&utm_content=Brain+Force, http://www.infowars.com/wp-content/uploads/2015/10/brainforce-25-200-e1476824046577.jpg, http://www.infowarsstore.com/health-and-wellness/infowars-life/brain-force.html?ims=tzrwu&utm_campaign=Infowars+Placement&utm_source=Infowars.com&utm_medium=Widget&utm_content=Brain+Force, http://www.infowarsstore.com/health-and-wellness/infowars-life/brain-force.html?ims=tzrwu&utm_campaign=Infowars+Placement&utm_source=Infowars.com&utm_medium=Widget&utm_content=Brain+Force, http://www.infowars.com/wp-content/uploads/2015/10/brainforce-25-200-e1476824046577.jpg, http://www.infowarsstore.com/health-and-wellness/infowars-life/brain-force.html?ims=tzrwu&utm_campaign=Infowars+Placement&utm_source=Infowars.com&utm_medium=Widget&utm_content=Brain+Force, http://www.infowarsstore.com/health-and-wellness/infowars-life/brain-force.html?ims=tzrwu&utm_campaign=Infowars+Placement&utm_source=Infowars.com&utm_medium=Widget&utm_content=Brain+Force]       20\n",
       "[www.1100kfnx.com.LISTEN]                                                                                                                                                                                                                                                                                                                                                                                                                                                                                                                                                                                                                                                                                                                                                                                                                                                                                                                                                                                                                                                                                                                                                                                                                                                                                                                                                                                                                                                                                                                                                                                                                                                                                                                                                                                                                                                                                                                                                                                                                                                                                                                                                                                                                                                                                                                                                                                                                                                                                                                                                                                                                                                                                                                                                                                                                                                                                                20\n",
       "[https://facebook.com/LukeWeAreChange, https://twitter.com/Lukewearechange, http://instagram.com/lukewearechange]                                                                                                                                                                                                                                                                                                                                                                                                                                                                                                                                                                                                                                                                                                                                                                                                                                                                                                                                                                                                                                                                                                                                                                                                                                                                                                                                                                                                                                                                                                                                                                                                                                                                                                                                                                                                                                                                                                                                                                                                                                                                                                                                                                                                                                                                                                                                                                                                                                                                                                                                                                                                                                                                                                                                                                                                        17\n",
       "[http://www.claritypress.com/LendmanIII.html]                                                                                                                                                                                                                                                                                                                                                                                                                                                                                                                                                                                                                                                                                                                                                                                                                                                                                                                                                                                                                                                                                                                                                                                                                                                                                                                                                                                                                                                                                                                                                                                                                                                                                                                                                                                                                                                                                                                                                                                                                                                                                                                                                                                                                                                                                                                                                                                                                                                                                                                                                                                                                                                                                                                                                                                                                                                                            13\n",
       "[www.zerohedge.com]                                                                                                                                                                                                                                                                                                                                                                                                                                                                                                                                                                                                                                                                                                                                                                                                                                                                                                                                                                                                                                                                                                                                                                                                                                                                                                                                                                                                                                                                                                                                                                                                                                                                                                                                                                                                                                                                                                                                                                                                                                                                                                                                                                                                                                                                                                                                                                                                                                                                                                                                                                                                                                                                                                                                                                                                                                                                                                      12\n",
       "[www.youtube.com]                                                                                                                                                                                                                                                                                                                                                                                                                                                                                                                                                                                                                                                                                                                                                                                                                                                                                                                                                                                                                                                                                                                                                                                                                                                                                                                                                                                                                                                                                                                                                                                                                                                                                                                                                                                                                                                                                                                                                                                                                                                                                                                                                                                                                                                                                                                                                                                                                                                                                                                                                                                                                                                                                                                                                                                                                                                                                                        12\n",
       "Name: urls, dtype: int64"
      ]
     },
     "execution_count": 68,
     "metadata": {},
     "output_type": "execute_result"
    }
   ],
   "source": [
    "df['urls'].value_counts().head(10)"
   ]
  },
  {
   "cell_type": "code",
   "execution_count": 69,
   "id": "6bef440e-5f3a-4257-967d-a3d03e9977e0",
   "metadata": {
    "tags": []
   },
   "outputs": [
    {
     "data": {
      "text/plain": [
       "[]                                        36105\n",
       "[@21WIRE.TV]                                459\n",
       "[@realDonaldTrump)]                         233\n",
       "[@realDonaldTrump), @realDonaldTrump)]       59\n",
       "[@HillaryClinton)]                           41\n",
       "[@PrisonPlanet)]                             40\n",
       "[@greanvillepost.com]                        35\n",
       "[@CNNPolitics)]                              34\n",
       "[@CNN)]                                      34\n",
       "[@foxandfriends)]                            32\n",
       "Name: userhandles, dtype: int64"
      ]
     },
     "execution_count": 69,
     "metadata": {},
     "output_type": "execute_result"
    }
   ],
   "source": [
    "df['userhandles'].value_counts().head(10)"
   ]
  },
  {
   "cell_type": "code",
   "execution_count": 70,
   "id": "55fb458a-dd9f-4a58-a48f-3dc4e8108cf1",
   "metadata": {
    "tags": []
   },
   "outputs": [
    {
     "data": {
      "text/plain": [
       "[]                                42436\n",
       "[editor@greanvillepost.com]          35\n",
       "[.@realDonaldTrump]                  22\n",
       "[cliff.kincaid@aim.org.]             17\n",
       "[.@POTUS]                            14\n",
       "[MEMBER@21WIRE.TV]                   10\n",
       "[lendmanstephen@sbcglobal.net]        9\n",
       "[.@DiamondandSilk]                    9\n",
       "[.@seanhannity]                       7\n",
       "[barenakedislam@gmail.com]            7\n",
       "Name: emails, dtype: int64"
      ]
     },
     "execution_count": 70,
     "metadata": {},
     "output_type": "execute_result"
    }
   ],
   "source": [
    "df['emails'].value_counts().head(10)"
   ]
  },
  {
   "cell_type": "code",
   "execution_count": 71,
   "id": "abb320bf-1d99-421f-9bdb-fa02d4b4a7a3",
   "metadata": {
    "tags": []
   },
   "outputs": [
    {
     "data": {
      "text/plain": [
       "'Friday, revealed Milwaukee Sheriff David Clarke, considered Homeland Security Secretary Donald Trump administration, email scandal own.In January, brief run-in plane Clarke fellow passenger Dan Black, later detained police reason whatsoever, maybe feelings hurt. Clarke messaged police stop Black deplaned, now, search warrant executed FBI exchanges.Clarke calling fake news copies search warrant Internet. UNINTIMIDATED lib media attempts smear discredit FAKE NEWS reports designed silence me, sheriff tweeted. continue poke eye sharp stick bitch slap scum bags til it. attacked better people #MAGA UNINTIMIDATED lib media attempts smear discredit FAKE NEWS reports designed silence me. continue poke eye sharp stick bitch slap scum bags til it. attacked better people #MAGA pic.twitter.com/XtZW5PdU2b David A. Clarke, Jr. ( December 30, 2017He stop there.BREAKING NEWS! LYING LIB MEDIA makes FAKE NEWS smear me, ANTIDOTE right them. Punch nose & TASTE BLOOD. gets bully like LYING LIB MEDIA attention better taste blood #neverbackdown pic.twitter.com/T2NY2psHCR David A. Clarke, Jr. ( December 30, 2017The internet called out.This local newspaper search warrant fake, chose file charges time mean t! Especially continue lie. Months decision charge Clarke, email search warrant filed KeithLeBlanc ( December 30, 2017I hope rest Village People implicated. Kirk Ketchum ( December 30, 2017Slaw, baked potatoes, French fries? pic.twitter.com/fWfXsZupxy ALT- Immigration ( December 30, 2017pic.twitter.com/ymsOBLjfxU Pendulum Swinger ( December 30, 2017you called police friends stand fun hat Chris Jackson ( December 30, 2017Is me, masterful pshop hat, tire of. think steely resolve visible eye pic.twitter.com/dWr5k8ZEZV Chris Mohney ( December 30, 2017Are indicating fingers people died jail? think fingers short, dipshit Ike Barinholtz ( December 30, 2017ROFL. Internet tough guy fake flair. pic.twitter.com/ulCFddhkdy KellMeCrazy ( December 30, 2017You edgy, buddy. Mrs. SMH ( December 30, 2017Is break Applebees? Aaron ( December 30, 2017Are trying earn relevant badge? CircusRebel ( December 30, 2017make sure hydrate, drink lots water. rumored prisoners denied water prison officials. Robert Klinc ( December 30, 2017Terrill Thomas, 38-year-old black man died thirst Clarke Milwaukee County Jail cell April, victim homicide. thought point out. repeated enough.Photo Spencer Platt/Getty Images.'"
      ]
     },
     "execution_count": 71,
     "metadata": {},
     "output_type": "execute_result"
    }
   ],
   "source": [
    "s=df.iloc[2]['clean text']\n",
    "s"
   ]
  },
  {
   "cell_type": "code",
   "execution_count": null,
   "id": "8dc560ac-79bd-4b0e-9e64-249aebfdfe35",
   "metadata": {},
   "outputs": [],
   "source": []
  }
 ],
 "metadata": {
  "kernelspec": {
   "display_name": "Python 3 (ipykernel)",
   "language": "python",
   "name": "python3"
  },
  "language_info": {
   "codemirror_mode": {
    "name": "ipython",
    "version": 3
   },
   "file_extension": ".py",
   "mimetype": "text/x-python",
   "name": "python",
   "nbconvert_exporter": "python",
   "pygments_lexer": "ipython3",
   "version": "3.8.7"
  }
 },
 "nbformat": 4,
 "nbformat_minor": 5
}
